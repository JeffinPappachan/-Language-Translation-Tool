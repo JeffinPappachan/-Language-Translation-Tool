{
 "cells": [
  {
   "cell_type": "code",
   "execution_count": 20,
   "id": "ba5c4c61-ae49-4c34-bd3d-94536e6174af",
   "metadata": {},
   "outputs": [],
   "source": [
    "from tkinter import *\n",
    "from tkinter import ttk\n",
    "from googletrans import Translator,LANGUAGES"
   ]
  },
  {
   "cell_type": "code",
   "execution_count": 21,
   "id": "1bdaf961-d642-4716-99e8-b5da5160530e",
   "metadata": {
    "scrolled": true
   },
   "outputs": [],
   "source": [
    "root=Tk()\n",
    "root.geometry('1100x320')\n",
    "root.resizable(0,0)\n",
    "icon_path = r'C:\\Users\\AGNEL\\Desktop\\Task_1\\alphahand.ico'\n",
    "root.iconbitmap(icon_path)\n",
    "root['bg']= 'skyblue'\n",
    "\n",
    "root.title('Language Translator by CodeAlpha')\n",
    "Label(root,text= \"Language Translator\", font=\"Arial 20 bold\").pack() \n",
    "\n",
    "Label(root,text= \"Enter Text\",font='Arial 13 bold',bg='white smoke').place(x=165,y=90)\n"
   ]
  },
  {
   "cell_type": "code",
   "execution_count": 22,
   "id": "0778db3a-7a54-4eb1-b20c-f0497358a2da",
   "metadata": {},
   "outputs": [
    {
     "data": {
      "text/plain": [
       "''"
      ]
     },
     "execution_count": 22,
     "metadata": {},
     "output_type": "execute_result"
    }
   ],
   "source": [
    "input_text =Entry(root,width=60)\n",
    "input_text.place(x=30,y=130)\n",
    "input_text.get()\n"
   ]
  },
  {
   "cell_type": "code",
   "execution_count": 23,
   "id": "1d640973-7e97-4b04-a6d9-1b6147043a1e",
   "metadata": {},
   "outputs": [],
   "source": [
    "Label(root,text=\"Output\",font=\"Arial 13 bold\",bg=\"white smoke\").place(x=780,y=90)\n",
    "output_text=Text(root,font='arial 10',height =5,wrap =WORD,padx=5,pady=5,width=50)\n",
    "output_text.place(x=600,y=130)\n",
    "language = list(LANGUAGES.values())\n",
    "dest_lang = ttk.Combobox(root,values = language, width =22)\n",
    "dest_lang.place(x=130,y=160)\n",
    "dest_lang.set('choose language')\n",
    "\n",
    "\n",
    "def Translate():\n",
    "    translator = Translator()\n",
    "    translated = translator.translate(text=input_text.get(), dest=dest_lang.get())\n",
    "    output_text.delete(1.0,END)\n",
    "    output_text.insert(END,translated.text)\n",
    "\n",
    "trans_btn= Button(root,text='Translate', font='arial 12 bold', pady =5, command=Translate,bg='orange',activebackground='green')\n",
    "trans_btn.place(x=445,y=180)\n",
    "\n",
    "\n",
    "root.mainloop()"
   ]
  }
 ],
 "metadata": {
  "kernelspec": {
   "display_name": "Python 3 (ipykernel)",
   "language": "python",
   "name": "python3"
  },
  "language_info": {
   "codemirror_mode": {
    "name": "ipython",
    "version": 3
   },
   "file_extension": ".py",
   "mimetype": "text/x-python",
   "name": "python",
   "nbconvert_exporter": "python",
   "pygments_lexer": "ipython3",
   "version": "3.12.4"
  }
 },
 "nbformat": 4,
 "nbformat_minor": 5
}
