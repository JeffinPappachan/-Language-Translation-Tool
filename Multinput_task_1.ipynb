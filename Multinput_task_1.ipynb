{
 "cells": [
  {
   "cell_type": "code",
   "execution_count": 3,
   "id": "351cae70-33d9-4138-9e4e-2994997aa3bb",
   "metadata": {},
   "outputs": [],
   "source": [
    "from tkinter import *\n",
    "from tkinter import ttk\n",
    "from googletrans import Translator, LANGUAGES\n",
    "\n",
    "root = Tk()\n",
    "root.geometry('1100x350')\n",
    "root.resizable(0, 0)\n",
    "icon_path = r'C:\\Users\\AGNEL\\Desktop\\Task_1\\alphahand.ico'\n",
    "root.iconbitmap(icon_path)\n",
    "root['bg'] = 'skyblue'\n",
    "\n",
    "root.title('Language Translator by CodeAlpha')\n",
    "\n",
    "Label(root, text=\"Language Translator\", font=\"Arial 20 bold\", bg='skyblue').pack(pady=10)\n",
    "\n",
    "Label(root, text=\"Enter Text\", font='Arial 13 bold', bg='white smoke').place(x=165, y=70)\n",
    "input_text = Entry(root, width=60)\n",
    "input_text.place(x=30, y=110)\n",
    "\n",
    "Label(root, text=\"Output\", font=\"Arial 13 bold\", bg=\"white smoke\").place(x=800, y=70)\n",
    "output_text = Text(root, font='Arial 10', height=11, wrap=WORD, padx=5, pady=5, width=50)\n",
    "output_text.place(x=500, y=100)\n",
    "\n",
    "# Dropdowns for source and target languages\n",
    "source_lang_label = Label(root, text=\"From Language\", font='Arial 13 bold', bg='white smoke')\n",
    "source_lang_label.place(x=30, y=150)\n",
    "source_lang = ttk.Combobox(root, values=[lang.capitalize() for lang in LANGUAGES.values()], width=20)\n",
    "source_lang.place(x=30, y=180)\n",
    "source_lang.set('English')  # default value\n",
    "\n",
    "target_lang_label = Label(root, text=\"To Language\", font='Arial 13 bold', bg='white smoke')\n",
    "target_lang_label.place(x=250, y=150)\n",
    "target_lang = ttk.Combobox(root, values=[lang.capitalize() for lang in LANGUAGES.values()], width=20)\n",
    "target_lang.place(x=250, y=180)\n",
    "target_lang.set('English')  # default value\n",
    "\n",
    "# Function to perform translation\n",
    "def translate_text():\n",
    "    translator = Translator()\n",
    "    src_lang_name = source_lang.get().lower()\n",
    "    tgt_lang_name = target_lang.get().lower()\n",
    "    src_lang_code = list(LANGUAGES.keys())[list(LANGUAGES.values()).index(src_lang_name)]\n",
    "    tgt_lang_code = list(LANGUAGES.keys())[list(LANGUAGES.values()).index(tgt_lang_name)]\n",
    "    translated = translator.translate(input_text.get(), src=src_lang_code, dest=tgt_lang_code)\n",
    "    output_text.delete(1.0, END)\n",
    "    output_text.insert(END, translated.text)\n",
    "\n",
    "# Translate button\n",
    "translate_button = Button(root, text='Translate', font='Arial 12 bold', padx=5, pady=5, bg='lightblue', fg='black', command=translate_text)\n",
    "translate_button.place(x=200, y=220)\n",
    "\n",
    "root.mainloop()\n"
   ]
  }
 ],
 "metadata": {
  "kernelspec": {
   "display_name": "Python 3 (ipykernel)",
   "language": "python",
   "name": "python3"
  },
  "language_info": {
   "codemirror_mode": {
    "name": "ipython",
    "version": 3
   },
   "file_extension": ".py",
   "mimetype": "text/x-python",
   "name": "python",
   "nbconvert_exporter": "python",
   "pygments_lexer": "ipython3",
   "version": "3.12.4"
  }
 },
 "nbformat": 4,
 "nbformat_minor": 5
}
