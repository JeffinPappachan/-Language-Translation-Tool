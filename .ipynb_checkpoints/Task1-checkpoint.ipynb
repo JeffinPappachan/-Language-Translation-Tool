{
 "cells": [
  {
   "cell_type": "code",
   "execution_count": null,
   "id": "ba5c4c61-ae49-4c34-bd3d-94536e6174af",
   "metadata": {},
   "outputs": [],
   "source": []
  }
 ],
 "metadata": {
  "kernelspec": {
   "display_name": "Python 3 (ipykernel)",
   "language": "python",
   "name": "python3"
  },
  "language_info": {
   "name": ""
  }
 },
 "nbformat": 4,
 "nbformat_minor": 5
}
